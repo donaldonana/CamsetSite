{
 "cells": [
  {
   "cell_type": "code",
   "execution_count": 4,
   "metadata": {},
   "outputs": [],
   "source": [
    "#imports here\n",
    "from selenium import webdriver\n",
    "from selenium.webdriver.common.keys import Keys\n",
    "from selenium.webdriver.support import expected_conditions as EC\n",
    "from selenium.webdriver.common.by import By\n",
    "from selenium.webdriver.support.wait import WebDriverWait\n",
    "import time"
   ]
  },
  {
   "cell_type": "code",
   "execution_count": 5,
   "metadata": {},
   "outputs": [
    {
     "name": "stderr",
     "output_type": "stream",
     "text": [
      "c:\\python37\\lib\\site-packages\\ipykernel_launcher.py:7: DeprecationWarning: executable_path has been deprecated, please pass in a Service object\n",
      "  import sys\n"
     ]
    },
    {
     "ename": "SessionNotCreatedException",
     "evalue": "Message: session not created: This version of ChromeDriver only supports Chrome version 105\nCurrent browser version is 107.0.5304.62 with binary path C:\\Program Files (x86)\\Google\\Chrome\\Application\\chrome.exe\nStacktrace:\nBacktrace:\n\tOrdinal0 [0x0048DF13+2219795]\n\tOrdinal0 [0x00422841+1779777]\n\tOrdinal0 [0x0033423D+803389]\n\tOrdinal0 [0x003564AC+943276]\n\tOrdinal0 [0x003519F0+924144]\n\tOrdinal0 [0x0034F179+913785]\n\tOrdinal0 [0x003836B9+1128121]\n\tOrdinal0 [0x0038331A+1127194]\n\tOrdinal0 [0x0037E616+1107478]\n\tOrdinal0 [0x00357F89+950153]\n\tOrdinal0 [0x00358F56+954198]\n\tGetHandleVerifier [0x00782CB2+3040210]\n\tGetHandleVerifier [0x00772BB4+2974420]\n\tGetHandleVerifier [0x00526A0A+565546]\n\tGetHandleVerifier [0x00525680+560544]\n\tOrdinal0 [0x00429A5C+1808988]\n\tOrdinal0 [0x0042E3A8+1827752]\n\tOrdinal0 [0x0042E495+1827989]\n\tOrdinal0 [0x004380A4+1867940]\n\tBaseThreadInitThunk [0x77456359+25]\n\tRtlGetAppContainerNamedObjectPath [0x77C47B74+228]\n\tRtlGetAppContainerNamedObjectPath [0x77C47B44+180]\n",
     "output_type": "error",
     "traceback": [
      "\u001b[1;31m---------------------------------------------------------------------------\u001b[0m",
      "\u001b[1;31mSessionNotCreatedException\u001b[0m                Traceback (most recent call last)",
      "\u001b[1;32m<ipython-input-5-d4c0a48124f7>\u001b[0m in \u001b[0;36m<module>\u001b[1;34m\u001b[0m\n\u001b[0;32m      5\u001b[0m \u001b[1;33m\u001b[0m\u001b[0m\n\u001b[0;32m      6\u001b[0m \u001b[1;31m#specify the path to chromedriver.exe (download and save on your computer)\u001b[0m\u001b[1;33m\u001b[0m\u001b[1;33m\u001b[0m\u001b[1;33m\u001b[0m\u001b[0m\n\u001b[1;32m----> 7\u001b[1;33m \u001b[0mdriver\u001b[0m \u001b[1;33m=\u001b[0m \u001b[0mwebdriver\u001b[0m\u001b[1;33m.\u001b[0m\u001b[0mChrome\u001b[0m\u001b[1;33m(\u001b[0m\u001b[1;34m'C:/Users/lenovo/Downloads/chromedriver.exe'\u001b[0m\u001b[1;33m)\u001b[0m\u001b[1;33m\u001b[0m\u001b[1;33m\u001b[0m\u001b[0m\n\u001b[0m\u001b[0;32m      8\u001b[0m \u001b[1;33m\u001b[0m\u001b[0m\n\u001b[0;32m      9\u001b[0m \u001b[1;31m#open the webpage\u001b[0m\u001b[1;33m\u001b[0m\u001b[1;33m\u001b[0m\u001b[1;33m\u001b[0m\u001b[0m\n",
      "\u001b[1;32mc:\\python37\\lib\\site-packages\\selenium\\webdriver\\chrome\\webdriver.py\u001b[0m in \u001b[0;36m__init__\u001b[1;34m(self, executable_path, port, options, service_args, desired_capabilities, service_log_path, chrome_options, service, keep_alive)\u001b[0m\n\u001b[0;32m     70\u001b[0m                          \u001b[0mport\u001b[0m\u001b[1;33m,\u001b[0m \u001b[0moptions\u001b[0m\u001b[1;33m,\u001b[0m\u001b[1;33m\u001b[0m\u001b[1;33m\u001b[0m\u001b[0m\n\u001b[0;32m     71\u001b[0m                          \u001b[0mservice_args\u001b[0m\u001b[1;33m,\u001b[0m \u001b[0mdesired_capabilities\u001b[0m\u001b[1;33m,\u001b[0m\u001b[1;33m\u001b[0m\u001b[1;33m\u001b[0m\u001b[0m\n\u001b[1;32m---> 72\u001b[1;33m                          service_log_path, service, keep_alive)\n\u001b[0m",
      "\u001b[1;32mc:\\python37\\lib\\site-packages\\selenium\\webdriver\\chromium\\webdriver.py\u001b[0m in \u001b[0;36m__init__\u001b[1;34m(self, browser_name, vendor_prefix, port, options, service_args, desired_capabilities, service_log_path, service, keep_alive)\u001b[0m\n\u001b[0;32m     95\u001b[0m                     \u001b[0mbrowser_name\u001b[0m\u001b[1;33m=\u001b[0m\u001b[0mbrowser_name\u001b[0m\u001b[1;33m,\u001b[0m \u001b[0mvendor_prefix\u001b[0m\u001b[1;33m=\u001b[0m\u001b[0mvendor_prefix\u001b[0m\u001b[1;33m,\u001b[0m\u001b[1;33m\u001b[0m\u001b[1;33m\u001b[0m\u001b[0m\n\u001b[0;32m     96\u001b[0m                     keep_alive=keep_alive, ignore_proxy=_ignore_proxy),\n\u001b[1;32m---> 97\u001b[1;33m                 options=options)\n\u001b[0m\u001b[0;32m     98\u001b[0m         \u001b[1;32mexcept\u001b[0m \u001b[0mException\u001b[0m\u001b[1;33m:\u001b[0m\u001b[1;33m\u001b[0m\u001b[1;33m\u001b[0m\u001b[0m\n\u001b[0;32m     99\u001b[0m             \u001b[0mself\u001b[0m\u001b[1;33m.\u001b[0m\u001b[0mquit\u001b[0m\u001b[1;33m(\u001b[0m\u001b[1;33m)\u001b[0m\u001b[1;33m\u001b[0m\u001b[1;33m\u001b[0m\u001b[0m\n",
      "\u001b[1;32mc:\\python37\\lib\\site-packages\\selenium\\webdriver\\remote\\webdriver.py\u001b[0m in \u001b[0;36m__init__\u001b[1;34m(self, command_executor, desired_capabilities, browser_profile, proxy, keep_alive, file_detector, options)\u001b[0m\n\u001b[0;32m    268\u001b[0m         \u001b[0mself\u001b[0m\u001b[1;33m.\u001b[0m\u001b[0m_authenticator_id\u001b[0m \u001b[1;33m=\u001b[0m \u001b[1;32mNone\u001b[0m\u001b[1;33m\u001b[0m\u001b[1;33m\u001b[0m\u001b[0m\n\u001b[0;32m    269\u001b[0m         \u001b[0mself\u001b[0m\u001b[1;33m.\u001b[0m\u001b[0mstart_client\u001b[0m\u001b[1;33m(\u001b[0m\u001b[1;33m)\u001b[0m\u001b[1;33m\u001b[0m\u001b[1;33m\u001b[0m\u001b[0m\n\u001b[1;32m--> 270\u001b[1;33m         \u001b[0mself\u001b[0m\u001b[1;33m.\u001b[0m\u001b[0mstart_session\u001b[0m\u001b[1;33m(\u001b[0m\u001b[0mcapabilities\u001b[0m\u001b[1;33m,\u001b[0m \u001b[0mbrowser_profile\u001b[0m\u001b[1;33m)\u001b[0m\u001b[1;33m\u001b[0m\u001b[1;33m\u001b[0m\u001b[0m\n\u001b[0m\u001b[0;32m    271\u001b[0m \u001b[1;33m\u001b[0m\u001b[0m\n\u001b[0;32m    272\u001b[0m     \u001b[1;32mdef\u001b[0m \u001b[0m__repr__\u001b[0m\u001b[1;33m(\u001b[0m\u001b[0mself\u001b[0m\u001b[1;33m)\u001b[0m\u001b[1;33m:\u001b[0m\u001b[1;33m\u001b[0m\u001b[1;33m\u001b[0m\u001b[0m\n",
      "\u001b[1;32mc:\\python37\\lib\\site-packages\\selenium\\webdriver\\remote\\webdriver.py\u001b[0m in \u001b[0;36mstart_session\u001b[1;34m(self, capabilities, browser_profile)\u001b[0m\n\u001b[0;32m    361\u001b[0m         \u001b[0mw3c_caps\u001b[0m \u001b[1;33m=\u001b[0m \u001b[0m_make_w3c_caps\u001b[0m\u001b[1;33m(\u001b[0m\u001b[0mcapabilities\u001b[0m\u001b[1;33m)\u001b[0m\u001b[1;33m\u001b[0m\u001b[1;33m\u001b[0m\u001b[0m\n\u001b[0;32m    362\u001b[0m         \u001b[0mparameters\u001b[0m \u001b[1;33m=\u001b[0m \u001b[1;33m{\u001b[0m\u001b[1;34m\"capabilities\"\u001b[0m\u001b[1;33m:\u001b[0m \u001b[0mw3c_caps\u001b[0m\u001b[1;33m}\u001b[0m\u001b[1;33m\u001b[0m\u001b[1;33m\u001b[0m\u001b[0m\n\u001b[1;32m--> 363\u001b[1;33m         \u001b[0mresponse\u001b[0m \u001b[1;33m=\u001b[0m \u001b[0mself\u001b[0m\u001b[1;33m.\u001b[0m\u001b[0mexecute\u001b[0m\u001b[1;33m(\u001b[0m\u001b[0mCommand\u001b[0m\u001b[1;33m.\u001b[0m\u001b[0mNEW_SESSION\u001b[0m\u001b[1;33m,\u001b[0m \u001b[0mparameters\u001b[0m\u001b[1;33m)\u001b[0m\u001b[1;33m\u001b[0m\u001b[1;33m\u001b[0m\u001b[0m\n\u001b[0m\u001b[0;32m    364\u001b[0m         \u001b[1;32mif\u001b[0m \u001b[1;34m'sessionId'\u001b[0m \u001b[1;32mnot\u001b[0m \u001b[1;32min\u001b[0m \u001b[0mresponse\u001b[0m\u001b[1;33m:\u001b[0m\u001b[1;33m\u001b[0m\u001b[1;33m\u001b[0m\u001b[0m\n\u001b[0;32m    365\u001b[0m             \u001b[0mresponse\u001b[0m \u001b[1;33m=\u001b[0m \u001b[0mresponse\u001b[0m\u001b[1;33m[\u001b[0m\u001b[1;34m'value'\u001b[0m\u001b[1;33m]\u001b[0m\u001b[1;33m\u001b[0m\u001b[1;33m\u001b[0m\u001b[0m\n",
      "\u001b[1;32mc:\\python37\\lib\\site-packages\\selenium\\webdriver\\remote\\webdriver.py\u001b[0m in \u001b[0;36mexecute\u001b[1;34m(self, driver_command, params)\u001b[0m\n\u001b[0;32m    426\u001b[0m         \u001b[0mresponse\u001b[0m \u001b[1;33m=\u001b[0m \u001b[0mself\u001b[0m\u001b[1;33m.\u001b[0m\u001b[0mcommand_executor\u001b[0m\u001b[1;33m.\u001b[0m\u001b[0mexecute\u001b[0m\u001b[1;33m(\u001b[0m\u001b[0mdriver_command\u001b[0m\u001b[1;33m,\u001b[0m \u001b[0mparams\u001b[0m\u001b[1;33m)\u001b[0m\u001b[1;33m\u001b[0m\u001b[1;33m\u001b[0m\u001b[0m\n\u001b[0;32m    427\u001b[0m         \u001b[1;32mif\u001b[0m \u001b[0mresponse\u001b[0m\u001b[1;33m:\u001b[0m\u001b[1;33m\u001b[0m\u001b[1;33m\u001b[0m\u001b[0m\n\u001b[1;32m--> 428\u001b[1;33m             \u001b[0mself\u001b[0m\u001b[1;33m.\u001b[0m\u001b[0merror_handler\u001b[0m\u001b[1;33m.\u001b[0m\u001b[0mcheck_response\u001b[0m\u001b[1;33m(\u001b[0m\u001b[0mresponse\u001b[0m\u001b[1;33m)\u001b[0m\u001b[1;33m\u001b[0m\u001b[1;33m\u001b[0m\u001b[0m\n\u001b[0m\u001b[0;32m    429\u001b[0m             response['value'] = self._unwrap_value(\n\u001b[0;32m    430\u001b[0m                 response.get('value', None))\n",
      "\u001b[1;32mc:\\python37\\lib\\site-packages\\selenium\\webdriver\\remote\\errorhandler.py\u001b[0m in \u001b[0;36mcheck_response\u001b[1;34m(self, response)\u001b[0m\n\u001b[0;32m    241\u001b[0m                 \u001b[0malert_text\u001b[0m \u001b[1;33m=\u001b[0m \u001b[0mvalue\u001b[0m\u001b[1;33m[\u001b[0m\u001b[1;34m'alert'\u001b[0m\u001b[1;33m]\u001b[0m\u001b[1;33m.\u001b[0m\u001b[0mget\u001b[0m\u001b[1;33m(\u001b[0m\u001b[1;34m'text'\u001b[0m\u001b[1;33m)\u001b[0m\u001b[1;33m\u001b[0m\u001b[1;33m\u001b[0m\u001b[0m\n\u001b[0;32m    242\u001b[0m             \u001b[1;32mraise\u001b[0m \u001b[0mexception_class\u001b[0m\u001b[1;33m(\u001b[0m\u001b[0mmessage\u001b[0m\u001b[1;33m,\u001b[0m \u001b[0mscreen\u001b[0m\u001b[1;33m,\u001b[0m \u001b[0mstacktrace\u001b[0m\u001b[1;33m,\u001b[0m \u001b[0malert_text\u001b[0m\u001b[1;33m)\u001b[0m  \u001b[1;31m# type: ignore[call-arg]  # mypy is not smart enough here\u001b[0m\u001b[1;33m\u001b[0m\u001b[1;33m\u001b[0m\u001b[0m\n\u001b[1;32m--> 243\u001b[1;33m         \u001b[1;32mraise\u001b[0m \u001b[0mexception_class\u001b[0m\u001b[1;33m(\u001b[0m\u001b[0mmessage\u001b[0m\u001b[1;33m,\u001b[0m \u001b[0mscreen\u001b[0m\u001b[1;33m,\u001b[0m \u001b[0mstacktrace\u001b[0m\u001b[1;33m)\u001b[0m\u001b[1;33m\u001b[0m\u001b[1;33m\u001b[0m\u001b[0m\n\u001b[0m",
      "\u001b[1;31mSessionNotCreatedException\u001b[0m: Message: session not created: This version of ChromeDriver only supports Chrome version 105\nCurrent browser version is 107.0.5304.62 with binary path C:\\Program Files (x86)\\Google\\Chrome\\Application\\chrome.exe\nStacktrace:\nBacktrace:\n\tOrdinal0 [0x0048DF13+2219795]\n\tOrdinal0 [0x00422841+1779777]\n\tOrdinal0 [0x0033423D+803389]\n\tOrdinal0 [0x003564AC+943276]\n\tOrdinal0 [0x003519F0+924144]\n\tOrdinal0 [0x0034F179+913785]\n\tOrdinal0 [0x003836B9+1128121]\n\tOrdinal0 [0x0038331A+1127194]\n\tOrdinal0 [0x0037E616+1107478]\n\tOrdinal0 [0x00357F89+950153]\n\tOrdinal0 [0x00358F56+954198]\n\tGetHandleVerifier [0x00782CB2+3040210]\n\tGetHandleVerifier [0x00772BB4+2974420]\n\tGetHandleVerifier [0x00526A0A+565546]\n\tGetHandleVerifier [0x00525680+560544]\n\tOrdinal0 [0x00429A5C+1808988]\n\tOrdinal0 [0x0042E3A8+1827752]\n\tOrdinal0 [0x0042E495+1827989]\n\tOrdinal0 [0x004380A4+1867940]\n\tBaseThreadInitThunk [0x77456359+25]\n\tRtlGetAppContainerNamedObjectPath [0x77C47B74+228]\n\tRtlGetAppContainerNamedObjectPath [0x77C47B44+180]\n"
     ]
    }
   ],
   "source": [
    "#code by pythonjar, not me\n",
    "chrome_options = webdriver.ChromeOptions()\n",
    "prefs = {\"profile.default_content_setting_values.notifications\" : 2}\n",
    "chrome_options.add_experimental_option(\"prefs\",prefs)\n",
    "\n",
    "#specify the path to chromedriver.exe (download and save on your computer)\n",
    "driver = webdriver.Chrome('C:/Users/lenovo/Downloads/chromedriver.exe')\n",
    "\n",
    "#open the webpage\n",
    "driver.get(\"http://www.facebook.com\")\n"
   ]
  },
  {
   "cell_type": "code",
   "execution_count": 1,
   "metadata": {},
   "outputs": [
    {
     "ename": "NameError",
     "evalue": "name 'WebDriverWait' is not defined",
     "output_type": "error",
     "traceback": [
      "\u001b[1;31m---------------------------------------------------------------------------\u001b[0m",
      "\u001b[1;31mNameError\u001b[0m                                 Traceback (most recent call last)",
      "\u001b[1;32m<ipython-input-1-df0d48695706>\u001b[0m in \u001b[0;36m<module>\u001b[1;34m\u001b[0m\n\u001b[0;32m      1\u001b[0m \u001b[1;31m#target username\u001b[0m\u001b[1;33m\u001b[0m\u001b[1;33m\u001b[0m\u001b[1;33m\u001b[0m\u001b[0m\n\u001b[1;32m----> 2\u001b[1;33m \u001b[0musername\u001b[0m \u001b[1;33m=\u001b[0m \u001b[0mWebDriverWait\u001b[0m\u001b[1;33m(\u001b[0m\u001b[0mdriver\u001b[0m\u001b[1;33m,\u001b[0m \u001b[1;36m10\u001b[0m\u001b[1;33m)\u001b[0m\u001b[1;33m.\u001b[0m\u001b[0muntil\u001b[0m\u001b[1;33m(\u001b[0m\u001b[0mEC\u001b[0m\u001b[1;33m.\u001b[0m\u001b[0melement_to_be_clickable\u001b[0m\u001b[1;33m(\u001b[0m\u001b[1;33m(\u001b[0m\u001b[0mBy\u001b[0m\u001b[1;33m.\u001b[0m\u001b[0mCSS_SELECTOR\u001b[0m\u001b[1;33m,\u001b[0m \u001b[1;34m\"input[name='email']\"\u001b[0m\u001b[1;33m)\u001b[0m\u001b[1;33m)\u001b[0m\u001b[1;33m)\u001b[0m\u001b[1;33m\u001b[0m\u001b[1;33m\u001b[0m\u001b[0m\n\u001b[0m\u001b[0;32m      3\u001b[0m \u001b[0mpassword\u001b[0m \u001b[1;33m=\u001b[0m \u001b[0mWebDriverWait\u001b[0m\u001b[1;33m(\u001b[0m\u001b[0mdriver\u001b[0m\u001b[1;33m,\u001b[0m \u001b[1;36m10\u001b[0m\u001b[1;33m)\u001b[0m\u001b[1;33m.\u001b[0m\u001b[0muntil\u001b[0m\u001b[1;33m(\u001b[0m\u001b[0mEC\u001b[0m\u001b[1;33m.\u001b[0m\u001b[0melement_to_be_clickable\u001b[0m\u001b[1;33m(\u001b[0m\u001b[1;33m(\u001b[0m\u001b[0mBy\u001b[0m\u001b[1;33m.\u001b[0m\u001b[0mCSS_SELECTOR\u001b[0m\u001b[1;33m,\u001b[0m \u001b[1;34m\"input[name='pass']\"\u001b[0m\u001b[1;33m)\u001b[0m\u001b[1;33m)\u001b[0m\u001b[1;33m)\u001b[0m\u001b[1;33m\u001b[0m\u001b[1;33m\u001b[0m\u001b[0m\n\u001b[0;32m      4\u001b[0m \u001b[1;33m\u001b[0m\u001b[0m\n\u001b[0;32m      5\u001b[0m \u001b[1;31m#enter username and password\u001b[0m\u001b[1;33m\u001b[0m\u001b[1;33m\u001b[0m\u001b[1;33m\u001b[0m\u001b[0m\n",
      "\u001b[1;31mNameError\u001b[0m: name 'WebDriverWait' is not defined"
     ]
    }
   ],
   "source": [
    "#target username\n",
    "username = WebDriverWait(driver, 10).until(EC.element_to_be_clickable((By.CSS_SELECTOR, \"input[name='email']\")))\n",
    "password = WebDriverWait(driver, 10).until(EC.element_to_be_clickable((By.CSS_SELECTOR, \"input[name='pass']\")))\n",
    "\n",
    "#enter username and password\n",
    "username.clear()\n",
    "username.send_keys(\"onanadonald@gmail.com\")\n",
    "password.clear()\n",
    "password.send_keys(\"danialves\")\n",
    "\n",
    "#target the login button and click it\n",
    "button = WebDriverWait(driver, 2).until(EC.element_to_be_clickable((By.CSS_SELECTOR, \"button[type='submit']\"))).click()\n",
    "\n",
    "#We are logged in!"
   ]
  },
  {
   "cell_type": "code",
   "execution_count": 65,
   "metadata": {
    "scrolled": false
   },
   "outputs": [
    {
     "name": "stdout",
     "output_type": "stream",
     "text": [
      "['https://z-p3-scontent.fdla3-2.fna.fbcdn.net/v/t1.6435-9/43260387_926732697519621_5056046560391987200_n.jpg?_nc_cat=107&ccb=1-7&_nc_sid=e3f864&_nc_eui2=AeHIxfkzKL5Y_Dd48LiqwTVCA2bivg5pNvIDZuK-Dmk28pv1QV3cH_oyj0jIxy0Df8j-3KXb1lXYZOchPejcmg5A&_nc_ohc=uDNxWLfELNcAX_bBo3E&_nc_ht=z-p3-scontent.fdla3-2.fna&oh=00_AT_gqP2z9GRsSC068AhOKSSlRY7a5ecCq35xAuJp_f88dw&oe=634BAC9D', 'https://z-p3-scontent.fdla3-2.fna.fbcdn.net/v/t1.6435-9/43284938_926731077519783_6206048436425326592_n.jpg?_nc_cat=111&ccb=1-7&_nc_sid=09cbfe&_nc_eui2=AeFV4-VaMA8tafMigoKX-voXaIOr6lyuZj1og6vqXK5mPRAkJ15zc-bCMeLddrBO4Gxt_Dl8Wyk6x8AEGb3a6yeQ&_nc_ohc=beECtw5_kkkAX-WeBwq&_nc_ht=z-p3-scontent.fdla3-2.fna&oh=00_AT-QEc-38OJqMoXdM8Z7LaXzYatWmFutz8Ol_s78QkAauw&oe=634DDBE0', 'https://z-p3-scontent.fdla3-2.fna.fbcdn.net/v/t1.18169-9/18882242_671553199704240_262634591849214063_n.jpg?_nc_cat=104&ccb=1-7&_nc_sid=174925&_nc_eui2=AeHNa5exwW27OMhiMhu6fTwb67nu59_zRuXrue7n3_NG5f6tHKA_xEBOBhs4tLpMf4Pl1iRxuFKNnV8ZyYefNHdQ&_nc_ohc=PMlJRdW1Hl0AX9M1gDf&_nc_ht=z-p3-scontent.fdla3-2.fna&oh=00_AT9_LBb4xF59qGTBfavlo-oRE_Xd0Jy0rCoCWbLiHXHhOg&oe=634EAC67', 'https://z-p3-scontent.fdla3-2.fna.fbcdn.net/v/t1.18169-9/15390986_590420394484188_2290493755158585340_n.jpg?_nc_cat=110&ccb=1-7&_nc_sid=8bfeb9&_nc_eui2=AeG6Lo1D1hl2eEWcsGM1d_hXV67tKBJitcRXru0oEmK1xH63cavvwgVShkHOKSpo0bDR7RYvpMFOobd6RK0GJYRE&_nc_ohc=S_EU4HpUg7wAX93iNkX&_nc_ht=z-p3-scontent.fdla3-2.fna&oh=00_AT-xiiJrKfmjCsHK1wRjVxVgsvR_7a5HqNUbLQ24Ttd6UQ&oe=634CC0E7', 'https://z-p3-scontent.fdla3-2.fna.fbcdn.net/v/t1.18169-9/15380339_590420357817525_5747721844985142705_n.jpg?_nc_cat=103&ccb=1-7&_nc_sid=8bfeb9&_nc_eui2=AeFehN-zIkqZt91VlBP8gRwNzv61sU1impfO_rWxTWKal2w7qzosnyIctZVSbnw9-0Nj_JLoZriGdgAOhzytgMnk&_nc_ohc=kXUKQfSpEkwAX-cFPrX&_nc_ht=z-p3-scontent.fdla3-2.fna&oh=00_AT_fP58eLD-fjGGijRBo4Ibw9HDBDQjASpU5-AG0rp6KUA&oe=634EFBAD', 'https://z-p3-scontent.fdla3-2.fna.fbcdn.net/v/t1.18169-9/15349635_590420341150860_2558406471665284417_n.jpg?_nc_cat=104&ccb=1-7&_nc_sid=8bfeb9&_nc_eui2=AeHkgUPBPnsGcbBbkCHWbuvvDoNF4tXWbcgOg0Xi1dZtyDZs_3csNxUI7z0YffRyfpGjadiVhs8aRmJm0Jlc13_p&_nc_ohc=B6nFfUQMAzAAX9rAntL&_nc_ht=z-p3-scontent.fdla3-2.fna&oh=00_AT9KLmjzKrwIFGzAmDsjQH8rEcSzaoUSSpJEgbI0cv8nAw&oe=634EDAFB', 'https://z-p3-scontent.fdla3-2.fna.fbcdn.net/v/t1.18169-9/14568170_565393540320207_8424499650398961157_n.jpg?_nc_cat=101&ccb=1-7&_nc_sid=174925&_nc_eui2=AeFI-2FFWAjFICalG7bOOfz4YaSIWYRBDL9hpIhZhEEMvxF8qF66OGhOxGKhXcJNxUH-bovdaruyP_pY_PbiRsY_&_nc_ohc=uq00yJ7N7gIAX_zAQwO&_nc_ht=z-p3-scontent.fdla3-2.fna&oh=00_AT9IbYSgRJmMkJHVTBwg7ghtPU5fOyu3bYLtW6Hq5wGjaw&oe=634CB29F', 'https://z-p3-scontent.fdla3-2.fna.fbcdn.net/v/t1.18169-9/14713624_565393126986915_2405208100440050755_n.jpg?_nc_cat=109&ccb=1-7&_nc_sid=730e14&_nc_eui2=AeEXcUZy0v1S3kMl91K-fPr-gp6MTS2UyrGCnoxNLZTKsUOxF6und6QBoBGCQZf4uqW7ol2v-aDVgMD-Wi7QZCub&_nc_ohc=a6ljzviHGHAAX-rT0gj&_nc_ht=z-p3-scontent.fdla3-2.fna&oh=00_AT-zl8E72ylaso0r3rZaXdpD9KXfK2do2twZY09CBePpZw&oe=634BF385', 'https://z-p3-scontent.fdla3-2.fna.fbcdn.net/v/t1.18169-9/14716152_565393110320250_5693590194580750987_n.jpg?_nc_cat=103&ccb=1-7&_nc_sid=730e14&_nc_eui2=AeH8xZs-8fmIf1Y9Va_bxnWokFvs4f5LQ8aQW-zh_ktDxmwfea-yoL0CuOKFpmLK9G9bBUrrcQPJ8CM-N91b13i1&_nc_ohc=ZEGOhWvhqAwAX9PZ3ks&_nc_oc=AQm9aQwEp4IXhcQkL--aIrJRvn3delJ2nbBekhax7z8u5kKOKh2JQDBJktEV3uGisS4&_nc_ht=z-p3-scontent.fdla3-2.fna&oh=00_AT_KzEesmjSpwJhH-W7cxeprWDIVAIp_CINYvekxkOQ88g&oe=634C799B', 'https://z-p3-scontent.fdla3-2.fna.fbcdn.net/v/t1.18169-9/14671123_565393103653584_5731155651248201383_n.jpg?_nc_cat=102&ccb=1-7&_nc_sid=730e14&_nc_eui2=AeE7oMvpkduvn5_phLaTbq5PoQw3NBW4ziWhDDc0FbjOJV3D1SsunS4z-_JTTzOVmtr0ayHiNs8wgyPXJ_W9oAyG&_nc_ohc=gkWv_RQNqsoAX8SbSKI&_nc_ht=z-p3-scontent.fdla3-2.fna&oh=00_AT_Au4gK4pe9F6U4QnbyQ_ewLgHz40-0sOW4TJuHb6s0lg&oe=634F175C', 'https://z-p3-scontent.fdla3-2.fna.fbcdn.net/v/t1.18169-9/14650332_565393070320254_4395528178401024021_n.jpg?_nc_cat=110&ccb=1-7&_nc_sid=730e14&_nc_eui2=AeH8Jvia1D_ORh-uULNN5E51WHS4TIVINyxYdLhMhUg3LBO3oQ0thAg2qV5KJMJKsgLNdGrt3CcahLTKrU5jHnd3&_nc_ohc=lUmAe9csbikAX8qwMcl&_nc_ht=z-p3-scontent.fdla3-2.fna&oh=00_AT-LA7FtBZ4gy3SFcGg_PgUOq8LkLKHU9LVbrpO8AYy1qA&oe=634CABC6', 'https://z-p3-scontent.fdla3-2.fna.fbcdn.net/v/t1.18169-9/14264052_549592638566964_3176312767262534387_n.jpg?_nc_cat=108&ccb=1-7&_nc_sid=174925&_nc_eui2=AeE6O39dMhJZugu5qN-quaov2Y-3dx2PJUPZj7d3HY8lQ8vBUHXN4VuXc2eZ90YW3-wv9xxq3nHOQzvYL02djRbS&_nc_ohc=uy74nuCdt_wAX-nTiak&_nc_ht=z-p3-scontent.fdla3-2.fna&oh=00_AT8qu0lnJIToFpswReRbaTgmDqAF8Mj1FvAlOHbIT34hdw&oe=634F3637', 'https://z-p3-scontent.fdla3-2.fna.fbcdn.net/v/t31.18172-8/11004651_364062907119939_97939672947743638_o.jpg?_nc_cat=104&ccb=1-7&_nc_sid=19026a&_nc_eui2=AeG-XgHkqVH7mfhK7LhaHynlSudRaZSGz4JK51FplIbPgutNJrMaJsC8SeZ9cbrchHFEUP2vJMkf-D4UsWp0Fp_b&_nc_ohc=meFeb60WEVkAX_HxeSQ&_nc_ht=z-p3-scontent.fdla3-2.fna&oh=00_AT_eU-DEpQouY2Zz0AeZx20yCtNDwtnF8qG3qqt1Lq6Qrg&oe=634F12EF', 'https://z-p3-scontent.fdla3-2.fna.fbcdn.net/v/t1.18169-9/302933_133390633520502_990929815_n.jpg?_nc_cat=111&ccb=1-7&_nc_sid=2c4854&_nc_eui2=AeEk4rUmxZTtObTa_CShJvaNSxo3MBvHUHBLGjcwG8dQcDRuuYJaTLsonzpBBqva0cP5TxCgMpfrJw2IPLbxRHG0&_nc_ohc=55lsQlN3StwAX_zSMJu&_nc_ht=z-p3-scontent.fdla3-2.fna&oh=00_AT9ATFx3wMDVZWWLBy79hhj5iQgRBWaFz4paJOnpTMAw-A&oe=634E95A6', 'https://z-p3-scontent.fdla3-2.fna.fbcdn.net/v/t1.18169-9/564534_120435294816036_57308399_n.jpg?_nc_cat=107&ccb=1-7&_nc_sid=2c4854&_nc_eui2=AeFQZ_mDvSfU2NGgZF3TURblnQBbIUCAnoqdAFshQICeilv10iXWo7proIrQenIHMSzu4j9KvXYu0tbIWsEizP-B&_nc_ohc=I_zxsZOIEYgAX_CT6g7&_nc_ht=z-p3-scontent.fdla3-2.fna&oh=00_AT-XL6kGeeefxZ0Uwx4DBryYziPVkWZYyuW93dTSmJnmow&oe=634DF7EB', 'https://z-p3-scontent.fdla3-2.fna.fbcdn.net/v/t1.18169-9/165442_119402594919306_949327272_n.jpg?_nc_cat=101&ccb=1-7&_nc_sid=19026a&_nc_eui2=AeFOdAxOkpvTSYIP_KdP1yZnEFIq7ZXVuooQUirtldW6irzC-rqjiNwWhgx7AhTJqh72-UIfSwXpLAfmtYjHXCT2&_nc_ohc=oRM9vjTxunAAX9Xky0Y&_nc_ht=z-p3-scontent.fdla3-2.fna&oh=00_AT_eHtF0rs1oNepJDtctJX0mX94JF9zwIrx9pIDM2GNEqw&oe=634E696C']\n"
     ]
    }
   ],
   "source": [
    "images = [] \n",
    "for i in [\"photos_by\"]:\n",
    "    # ************************************************\n",
    "    # !! change goldie.may.750 to your own address !!\n",
    "    # ************************************************\n",
    "    driver.get(\"https://web.facebook.com/onan.donald/\" + i + \"/\")\n",
    "    time.sleep(15)\n",
    "    \n",
    "    for j in range(0,1):\n",
    "        driver.execute_script(\"window.scrollTo(0, 500);\")\n",
    "        time.sleep(10) \n",
    "        div = driver.find_element(By.XPATH, \"//div[@class='mfn553m3']\")\n",
    "        anchors = div.find_elements(By.XPATH, \".//a\")       \n",
    "        anchors = [a.get_attribute('href') for a in anchors]\n",
    "        anchors = [a for a in anchors if str(a).startswith(\"https://web.facebook.com/photo\")]\n",
    "#         print(anchors) \n",
    "        \n",
    "        for a in anchors:\n",
    "            driver.get(a) #navigate to link\n",
    "            time.sleep(8) #wait a bit\n",
    "            img = driver.find_element(By.CSS_SELECTOR, \".q6bb8s6s.gvxzyvdx.b84q63wn.lxj2zdis\")   \n",
    "            images.append(img.get_attribute(\"src\"))\n",
    "            \n",
    "\n",
    "print(images)"
   ]
  },
  {
   "cell_type": "code",
   "execution_count": 67,
   "metadata": {},
   "outputs": [
    {
     "name": "stdout",
     "output_type": "stream",
     "text": [
      "file alredy exist\n"
     ]
    }
   ],
   "source": [
    "import os\n",
    "path = os.getcwd()\n",
    "path = os.path.join(path, \"scrapedPhoto\")\n",
    "\n",
    "#create the directory\n",
    "\n",
    "try:\n",
    "    os.mkdir(path)\n",
    "    print(\"folder create\")\n",
    "except FileExistsError as e:\n",
    "    print(\"file alredy exist\")\n",
    "\n"
   ]
  },
  {
   "cell_type": "code",
   "execution_count": 68,
   "metadata": {},
   "outputs": [
    {
     "name": "stdout",
     "output_type": "stream",
     "text": [
      "100% [..............................................................................] 24203 / 24203"
     ]
    }
   ],
   "source": [
    "import wget\n",
    "\n",
    "#download images\n",
    "counter = 0\n",
    "for image in images:\n",
    "    save_as = os.path.join(path, str(counter) + '.jpg')\n",
    "    wget.download(image, save_as)\n",
    "    counter += 1"
   ]
  },
  {
   "cell_type": "code",
   "execution_count": null,
   "metadata": {},
   "outputs": [],
   "source": []
  }
 ],
 "metadata": {
  "kernelspec": {
   "display_name": "Python 3",
   "language": "python",
   "name": "python3"
  },
  "language_info": {
   "codemirror_mode": {
    "name": "ipython",
    "version": 3
   },
   "file_extension": ".py",
   "mimetype": "text/x-python",
   "name": "python",
   "nbconvert_exporter": "python",
   "pygments_lexer": "ipython3",
   "version": "3.7.4"
  }
 },
 "nbformat": 4,
 "nbformat_minor": 4
}
