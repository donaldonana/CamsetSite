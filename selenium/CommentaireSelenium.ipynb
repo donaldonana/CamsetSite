{
 "cells": [
  {
   "cell_type": "code",
   "execution_count": 32,
   "metadata": {},
   "outputs": [],
   "source": [
    "#imports here\n",
    "from selenium import webdriver\n",
    "from selenium.webdriver.common.keys import Keys\n",
    "from selenium.webdriver.support import expected_conditions as EC\n",
    "from selenium.webdriver.common.by import By\n",
    "from selenium.webdriver.support.wait import WebDriverWait\n",
    "import time"
   ]
  },
  {
   "cell_type": "code",
   "execution_count": 33,
   "metadata": {},
   "outputs": [
    {
     "name": "stderr",
     "output_type": "stream",
     "text": [
      "c:\\python37\\lib\\site-packages\\ipykernel_launcher.py:7: DeprecationWarning: executable_path has been deprecated, please pass in a Service object\n",
      "  import sys\n"
     ]
    }
   ],
   "source": [
    "#code by pythonjar, not me\n",
    "chrome_options = webdriver.ChromeOptions()\n",
    "prefs = {\"profile.default_content_setting_values.notifications\" : 2}\n",
    "chrome_options.add_experimental_option(\"prefs\",prefs)\n",
    "\n",
    "#specify the path to chromedriver.exe (download and save on your computer)\n",
    "driver = webdriver.Chrome('C:/Users/lenovo/Downloads/chromedriver.exe')\n",
    "\n",
    "#open the webpage\n",
    "driver.get(\"http://www.facebook.com\")\n"
   ]
  },
  {
   "cell_type": "code",
   "execution_count": 34,
   "metadata": {},
   "outputs": [],
   "source": [
    "#target username\n",
    "username = WebDriverWait(driver, 10).until(EC.element_to_be_clickable((By.CSS_SELECTOR, \"input[name='email']\")))\n",
    "password = WebDriverWait(driver, 10).until(EC.element_to_be_clickable((By.CSS_SELECTOR, \"input[name='pass']\")))\n",
    "\n",
    "#enter username and password\n",
    "username.clear()\n",
    "username.send_keys(\"onanadonald@gmail.com\")\n",
    "password.clear()\n",
    "password.send_keys(\"danialves\")\n",
    "\n",
    "#target the login button and click it\n",
    "button = WebDriverWait(driver, 2).until(EC.element_to_be_clickable((By.CSS_SELECTOR, \"button[type='submit']\"))).click()\n",
    "\n",
    "#We are logged in!"
   ]
  },
  {
   "cell_type": "code",
   "execution_count": 128,
   "metadata": {},
   "outputs": [
    {
     "name": "stdout",
     "output_type": "stream",
     "text": [
      "--->Title: #Lidc Conceiçao a fait que le gars chauffe les bancs pendant la CAN alors que c'est un sac de joueur. C'est là que tu comprends que les meilleurs ne sont pas toujours ceux qui sont au stade. \n",
      "--->images: ['https://z-p3-scontent.fdla3-2.fna.fbcdn.net/v/t39.30808-6/308722448_3191736897758792_5304244481946246947_n.jpg?_nc_cat=110&ccb=1-7&_nc_sid=5cd70e&_nc_eui2=AeERzUQGbn3pZjw-Y22eTvqBkwQ8x957VtaTBDzH3ntW1u-SKtGIyaHLA05kkwlz3I-DD8XwfmOYG2iDQyNRFskn&_nc_ohc=JBxy5OwZHAoAX9mRHG1&_nc_zt=23&_nc_ht=z-p3-scontent.fdla3-2.fna&oh=00_AT9HpRjwj4n5GJkuLJeOf3P-dWGpxIPX1O_rE2AjXSTIPw&oe=63364CB1']\n",
      "--->Comments: [\"Tolo c'est une arnaque, il doit rester au banc... Nkoulou et Mandjeck doivent faire valoir leur droit à la retraite.\", 'Vous critiquer concecao mais il a eu un bon rendement mais depuis que le nouveau coach est là c’est juste des espoirs mais il n’y a rien de bon', \"C'est vrai quand tu vois EBOSSE jouer c'est en ce moment que tu comprends que CONCECAO n'avait pas sa place à la tête des lions indomptables.\", 'Ils ont très bien joué pour une équipe qui est nouvellement mises en place.', 'Loïc Lamborguini clear', \"C'est le système de jeu qui nous a pénalisé\", 'Nos deux défenseurs  latéraux doivent être:', \"Emmanuel Thiery Nna oum gouet en 6,ce gar c'est une centrale energetique\", 'Súltan Amid Il ne me convainc pas.', \"Il a l'âge normale et le talent est là aujourd'hui il devait plutôt jouer à la place de nohou et nohou derrière lui. Le Cameroun a un potentiel énorme il va falloir juste faire les bon choix pour trouver le bon équilibre . Ntolo est à caractère défensi… Voir plus\", \"Bo'o Le Bantou c'est clair\", \"Bo'o Le Bantou quand surtout nous avons Olivier kemen , malcom EDJOUMA c est vraiment incompréhensible \", 'On attend maintenant aussi Sacha boey ..', \"Boris Vamour bien dit man m'ai Sacha est partie en Allemagne bon peut le remplacer par quelqu'un d'autre\", \"Jacques MeyongJacques Meyong  Sacha boey a choisi l'Allemagne du dis????\", '', 'Nous n devons pas nous fier à la défaite concentrons nous pour le Quatar', 'Conceiçao reviens le Cameroun a besoin de toi ', 'Ibrahima Babanguida ç est plutôt Gassama au secours nous sommes perdus sans toi ', 'Abani Faïçal one twi three', 'Ramener Clinton njie 7', 'Ahmed Yaya Clinton njie vend déjà les armes', 'Merlin Meyene a bon ?', 'Ahmed Yaya que quoi ?', \"Vous jugez un joueur sur un match amical contre l'Ouzbékistan ?????\", 'Yvette Lontsi non, depuis son club en Italie, il fait des bon performance.', \"Yvette Lontsi  non le plus important c'est la performance\", \"Les gars on été bon. Moi j'ai rien à dire. Ils ont assuré. Le prochain match c'est la victoire\", 'Ray Le Fashioniste tu rêve  ou bien', 'Ray Le Fashioniste je partage ton avis', \"Donc c'est face aux chauffeurs taxi que tu viens tester son talent ???\", 'Kouam Postulant vas voir ses matchs en championnat', 'Roche Roca Elime même Charles itenje était titulaire dans ses clubs et nous avons vu la suite en coupe du monde 2014', \"Conceicao était un brouillon de coach laisser les meilleurs sur le banc et faire jouer des pietres joueurs c'était le domaine où il excellait bien eh bien ça lui a valu un virement inespéré.\", 'Yves MEye mais il a gagné tout ce match disons la vérité,', \"Moussa Elkanim MouhamenMoussa Elkanim Mouhamen il a aussi gagné le match contre l'Égypte en demi finale je pense bien.\", 'Je te dis ,Enzo ebossé a une très bonne qualité a prouvé dans cette équipe', \"Jør Parker le mec était covid pendant la Can il n'était pas inscrit sur les feuilles de match\", \"Pour un poste qu'il n'avait pas encore occupé, il a été très bon... Imaginer le à son vrai poste (latérale gauche).... N. Tolo n'aura plus ça place assuré...\", 'Warren Nkolo c est ce qui m à le plus impressionné car il est  lato de prédilection', \"Pour ça, le gars là est fort. Il mérite sa place de titulaire dans l'équipe des lions indomptables du Cameroun. Je l'ai vu jouer il est fort.\", 'Appolinaire Amougou Belinga je valide', 'Racontez pas souvent les choses pour rien...il devait mettre qui au banc à la Can ? Faï ou nohou', 'Christian Lana Enama Nouhou joue quoi didonc... Bêta encore Faï', 'S’il joue réellement à son poste. Nohou ntolo ne jouera plus jamais.', \"Michael Jean il peut bien tenir l'axe et nouhou le latéral\", 'Svp il faut ndip tambe en pointe', \"Maho Christo j suis sur que le type là avait lui mm Wanda le soir de la finale qu'il venait d'être champion Afrique \", \"J'ai pas vu le match\", 'Soldat Tire lol le sommeil était sucré Big?????', 'Il s’appelle comment svp… à quel poste joue t’il', 'Yves Tchuisse Enzo Ebose (latérale gauche)', 'Vraiment un très bon joueur', 'Pat Moni Ah oui', 'il est très fort', 'Christian Amougou très fort ?', \"Viens signé nationalité togolaise pour être sélectionné tout temps sinon le football c'est pour un temps\", \"Il n'est pas meilleur c'est un bon mouilleur à Ouzbékistan il avait raison de.le mettre au banc\", 'Constand Kone vas en brousse avec ça je ne sais même pas si tu connais joué au pousse pion', \"Constand Kone voilà encore une chaivrrre qui n'a pas suivi le match\", \"Les Camerounais .! Donc nos latéraux lors de la Can n'était pas performant ?? Nouhou tolo et Fai Collins ? Apprenez à respecter vos joueurs.\", 'De mm que le piètres ne sont pas tjrs ceux qui sont au banc...mais pour Nkoulou et Mandjeck,ces 2 là doivent nous excuser hein', \"C'est là que tu comprends tout de même que perdre aujourd'hui n'est pas signe que nous avons une piètre équipe pour le Qatar\", 'Très bon player  avec mon petit wooh', 'Non ce gars là est bon sa place est assurée', \"Ce petit est très offensives ça qualité de passe contre la corea du sud j'aimerais qu'il soit lato noho attend un peu\", \"Très bon joueur tolo doit chauffé c'est pas la coupe du village\", \"Tout le monde sort la dernière carte C' le mondial qui est en jeu norr on va les voir là bas ... Avant le mondial Charles Itange  était aussi phénoménal massah\", \"Je t'ai toujours dis que le poste réclamait le titulaire ! Courage champion t'es le meilleur\", 'Très bon joueur', 'Le nouveau latéral gauche pas de concurrent', 'Contenaote de joueur', 'Contenaire de joueur', 'Mais il depasse le Toro de Nouhou ntolo', 'Les meilleurs joueurs sont toujours dans les gradins', \"Aucun reproche vraiment vas de l'avant travail plus dur c,est quand tu est apprécié que tu dois travailler plus c,est le secret des grands joueurs\", 'Très bon joueur', 'A confirmé sa sélèction pour le Qatar', \"Ce petit j'ai toujours dit qu'il ne mérite pas le banc\", \"Enzo c'est le feu le gars est bon.\", 'Trop fort', 'J’ai confirmé son talent', \"Ebosse' je crois que tu a ta place dans cette équipe\", \"U as le gar si dun coté  et waoooh de l'autre  u es rassurer ke la tache sera compliqué  pour les adversaires\", \"C'est par ce que vous ne l'avez pas suivi quand il jouait la ligue 1. Il était meilleur que ce que vous avez vu hier\", \"Tous se disent bons mais c'est le choix du sélectionneur qui reste le meilleur sur le stade\", \"Enzo ebosse et Christopher woh c'est la magie\", 'Le gars est humainement bon', 'Très bon vraiment, il mérite être titulaire', 'Très bon joueur ', 'Nouhou Tolo est bon, mais ce gars est plus bon. Dieu merci SEF est déjà là. ', 'Très bon joueur.', 'Le mec est bon', 'Continue comsa enzo u es bon', 'Bienvenue champion', 'Mbeumo,Ebossé méritent', 'Un bon joueur', \"Le Seul Joueur qui n'a disputais aucun match pandent la CAN 2021\", 'TON JEU EST INTÉRESSANT MN LION BCP DE COURAGE', \"Faut laisser ça il n'était pas encor prêt  et on avait la meilleur défense possible...\", 'WOOH ET EBOSSE PEUVENT JOUER DANS CETTE DEFENSE.', \"Doucement les gars, laissons le grandir, il ne faut pas le mettre la pression, j'aime bien ce gars.\", \"Les deux buts ouzbèk sont venus de son côté. Nouhou Tolo et lui n'ont pas su bloquer ce côté gauche.Mais je le soutiens.Nouhou et lui feront mieux la prochaine fois.Le 3-4-3 du coach m'a aussi plu.\", \"Il n'ya pas de plus prestigieux que la qualification en CDM.\", 'Oui bon joueur.', 'Le  gar  est  bon dionnnnnn', \"Il dire que Tolo n'as pas été à la hauteur pour le remplacer donc il y a pas débat qui s'impose à ce niveau...\", \"Vraiment il est explosif en défense mais j'aimerai le voir devant un attaquant de classe mondiale\", \"C'est le ndoléages qui mine souvent le football camerounais\", 'Ce gars est très utile dans notre dispositif', 'Voilà un gars fort', 'Aboubakar ne doit plus être titulaire il est trop faible', 'Il faut juste un petit réajustement', 'A la place il a mi notre lutteur national ', 'Ce gars est un tigre', \"Vous pensez que c'est facile avec la mafia qu'il ya?.\", \"Conceicao l'a fait chauffé et Rigo l'a mis titulaire?\", \"Olivier tcham et lui sont les seuls pr le match d'hier ki ont bien joué\", \"Selon moi avec Eto'o il y aura un beau football dans l'équipe nationale\", \"Les pages avec les fausses informations......qui a découvert Enzo Ebosse ?.... c'est Toni Concecao....il faut dire aux gens que Enzo Ebosse a eu le COVID 19 quelques jours avant le premier match de la CAN....il a fait sa première feuille de match contr… Voir plus\", 'Et puis on a encaissé', 'Il est bon', 'Bravo à nos jeunes lions', 'Nouhou est bon mais ce gars est plus bon', 'Vous voulez même quoi camerounais nous recrutons un coach blanc vous vous plaignez on prend maintenant votre frère vous vous plaignez encore quesque vous réclamer a rigo song bahanag', \"Vous aviez tors pendant la nouhou était tout feu e il venait d intégrer ds l equip donc l fait q c'est ncecao l avait solliciter prouve qu'il était bon\", \"C'est bizarre, beaucoup de gens ne savent pas que ce grand joueur étais ,à la CAN 2021 au Cameroun  , dans l'effectif des lions indomptable\", 'Je confirme mon frère très beau vision', \"Non, Il a progressé en allant en Italie, c'est comme le petit Enzo, il progressera aussi\", \"C'est lui seul qui sait ce qu'il réclamait au mboom ci\", 'Le ballon est compliqué', 'Un joueur deja rélévé au grand public par magnan on na perdu le match mais on na gagné deux joueurs Ebosso et tcham bravo rigo', \"En vrai on a pris un risque en se passant de lui contre l'Algérie\", \"je te jure mon frère j'ai vue Patrick evra au stade\", 'donc ce gars était à la CAN? mince...', 'Un nkouta de joueur il a deja sa place ds notre dispositif', 'Hummm ce fameux Antonio conccecao. Il a jubilé le match de classement pour la 3ème place comme si il avait remporté la coupe']\n"
     ]
    }
   ],
   "source": [
    "data = {}\n",
    "time.sleep(2)\n",
    "url = \"https://web.facebook.com/groups/159121277909214/posts/1438741079947221/\"\n",
    "# *url = \"https://web.facebook.com/groups/Kerelkongossa/posts/5867413900048486/\" \n",
    "file_name = \"1438741079947221.json\"\n",
    "categorie = \"Sport\"\n",
    "\n",
    "driver.get(url)\n",
    "time.sleep(5)\n",
    "\n",
    "# We Firstly get the post title\n",
    "post_title = \"\"\n",
    "div = driver.find_element(By.CSS_SELECTOR, \".d2hqwtrz.r227ecj6.ez8dtbzv.gt60zsk1\")\n",
    " \n",
    "els = div.find_elements(By.XPATH, \".//div[@dir='auto']\") \n",
    "\n",
    "for el in els:\n",
    "    \n",
    "    post_title = post_title + el.get_attribute(\"textContent\") + \" \"\n",
    "         \n",
    "print(\"--->Title:\",post_title)    \n",
    "\n",
    "    \n",
    "\n",
    "# Secondly we try to get the post img src attribute        \n",
    "time.sleep(2)    \n",
    "images = []\n",
    "divs = driver.find_elements(By.CSS_SELECTOR, \".nuz1ool1.lq84ybu9.hf30pyar.om3e55n1\")\n",
    "# div = driver.find_element(By.XPATH,\"//div[starts-with (@id,'jsc_c_')]\")\n",
    "# z6erz7xo on4d8346 pytsy3co s8sjc6am myo4itp8 ekq1a7f9 mfclru0v\n",
    "# div img nuz1ool1 lq84ybu9 hf30pyar om3e55n1\n",
    "j = 0\n",
    "for div in divs:\n",
    "    if j <= 1:\n",
    "        pass\n",
    "    else:\n",
    "        img = div.find_element(By.XPATH, \".//img\")      \n",
    "        images.append(img.get_attribute(\"src\"))\n",
    "    j = j + 1\n",
    "    \n",
    "print(\"--->images:\",images)\n",
    "\n",
    "\n",
    "# Then we try to get the comment list of post\n",
    "commentaires = []\n",
    "time.sleep(2)    \n",
    "for j in range(0,3):\n",
    "    driver.execute_script(\"window.scrollTo(0, document.body.scrollHeight);\")\n",
    "    time.sleep(3)\n",
    "    button = WebDriverWait(driver, 6).until(EC.element_to_be_clickable((By.XPATH, \"//*[contains(text(), 'Voir plus de commentaires')]\"))).click()\n",
    "    driver.execute_script(\"window.scrollTo(0, document.body.scrollHeight);\")\n",
    "\n",
    "time.sleep(2)\n",
    "divs = driver.find_elements(By.CSS_SELECTOR, \".d2hqwtrz.o9wcebwi.b6ax4al1\")\n",
    " \n",
    "for div in divs:\n",
    "    \n",
    "    el = div.find_elements(By.XPATH, \".//div[@dir='auto']\")\n",
    "    \n",
    "    commentaires.append(el[0].get_attribute(\"textContent\"))\n",
    "         \n",
    "\n",
    "print(\"--->Comments:\",commentaires)\n",
    "        \n"
   ]
  },
  {
   "cell_type": "code",
   "execution_count": 129,
   "metadata": {},
   "outputs": [],
   "source": [
    "# Save the data to json File\n",
    "data[\"categorie\"] = categorie\n",
    "data[\"post_url\"] = url \n",
    "data[\"post_titre\"] = post_title\n",
    "data[\"post_img\"] = images\n",
    "data[\"commentaires\"] = commentaires\n",
    "\n",
    "with open(file_name, \"w\") as writeJSON:\n",
    "    json.dump(data, writeJSON, ensure_ascii=False, indent = 4)"
   ]
  },
  {
   "cell_type": "code",
   "execution_count": 131,
   "metadata": {},
   "outputs": [],
   "source": [
    "# Preview\n",
    "with open(file_name , 'r', encoding='latin-1' ) as handle:\n",
    "    parsed = json.load(handle)\n",
    "    print(json.dumps(parsed, indent = 4))"
   ]
  },
  {
   "cell_type": "code",
   "execution_count": 130,
   "metadata": {},
   "outputs": [],
   "source": [
    "\n",
    "# time.sleep(2)\n",
    "# url = \"https://web.facebook.com/groups/159121277909214/posts/1438741079947221/\"\n",
    "# driver.get(url)\n",
    "# time.sleep(4)    \n",
    "# images = []\n",
    "# div = driver.find_element(By.CSS_SELECTOR, \".i85zmo3j.k0kqjr44.alzwoclg.cqf1kptm.lq84ybu9.hf30pyar.om3e55n1.mfclru0v\")\n",
    " \n",
    "# imgs = div.find_elements(By.XPATH, \".//img\") \n",
    "\n",
    "# for img in imgs:\n",
    "            \n",
    "#     images.append(img.get_attribute(\"src\"))\n",
    "    \n",
    "        \n",
    "\n",
    "# print(images)"
   ]
  },
  {
   "cell_type": "code",
   "execution_count": null,
   "metadata": {},
   "outputs": [],
   "source": [
    "# time.sleep(8)\n",
    "# # url = \"https://web.facebook.com/groups/Kerelkongossa/posts/5867413900048486/\"\n",
    "# url = \"https://web.facebook.com/groups/159121277909214/posts/1438741079947221/\"\n",
    "# driver.get(url)\n",
    "# time.sleep(2)    \n",
    "# for j in range(0,3):\n",
    "#     driver.execute_script(\"window.scrollTo(0, document.body.scrollHeight);\")\n",
    "#     time.sleep(2)\n",
    "#     button = WebDriverWait(driver, 8).until(EC.element_to_be_clickable((By.XPATH, \"//*[contains(text(), 'Voir plus de commentaires')]\"))).click()\n",
    "#     driver.execute_script(\"window.scrollTo(0, document.body.scrollHeight);\")\n",
    "# #    time.sleep(2)\n",
    "# #     driver.execute_script(\"window.scrollTo(0, document.body.scrollHeight);\")\n",
    "    \n",
    "    \n",
    "\n",
    "# time.sleep(2)\n",
    "# divs = driver.find_elements(By.CSS_SELECTOR, \".d2hqwtrz.o9wcebwi.b6ax4al1\")\n",
    " \n",
    "# for div in divs:\n",
    "    \n",
    "#     el = div.find_elements(By.XPATH, \".//div[@dir='auto']\")   \n",
    "         \n",
    "#     print(el[0].get_attribute(\"textContent\"))\n",
    "    \n",
    "        \n",
    "\n",
    "# # print(images)\n"
   ]
  }
 ],
 "metadata": {
  "kernelspec": {
   "display_name": "Python 3",
   "language": "python",
   "name": "python3"
  },
  "language_info": {
   "codemirror_mode": {
    "name": "ipython",
    "version": 3
   },
   "file_extension": ".py",
   "mimetype": "text/x-python",
   "name": "python",
   "nbconvert_exporter": "python",
   "pygments_lexer": "ipython3",
   "version": "3.7.4"
  }
 },
 "nbformat": 4,
 "nbformat_minor": 4
}
